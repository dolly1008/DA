{
  "nbformat": 4,
  "nbformat_minor": 0,
  "metadata": {
    "colab": {
      "provenance": [],
      "include_colab_link": true
    },
    "kernelspec": {
      "name": "python3",
      "display_name": "Python 3"
    },
    "language_info": {
      "name": "python"
    }
  },
  "cells": [
    {
      "cell_type": "markdown",
      "metadata": {
        "id": "view-in-github",
        "colab_type": "text"
      },
      "source": [
        "<a href=\"https://colab.research.google.com/github/dolly1008/DA/blob/main/web_scraping_demo.ipynb\" target=\"_parent\"><img src=\"https://colab.research.google.com/assets/colab-badge.svg\" alt=\"Open In Colab\"/></a>"
      ]
    },
    {
      "cell_type": "code",
      "execution_count": null,
      "metadata": {
        "id": "lBztZVh0F8Ot"
      },
      "outputs": [],
      "source": [
        "import pandas as pd\n",
        "import numpy as np\n",
        "import requests\n",
        "from bs4 import BeautifulSoup"
      ]
    },
    {
      "cell_type": "code",
      "source": [
        "# url for website\n",
        "\n",
        "url = \"https://www.scrapethissite.com/pages/simple/\"\n",
        "\n",
        "response = requests.get(url=url)\n",
        "\n",
        "response"
      ],
      "metadata": {
        "colab": {
          "base_uri": "https://localhost:8080/"
        },
        "id": "s4DoUdEAGOvt",
        "outputId": "6e498b17-ffab-4024-85e0-88db89690e07"
      },
      "execution_count": null,
      "outputs": [
        {
          "output_type": "execute_result",
          "data": {
            "text/plain": [
              "<Response [200]>"
            ]
          },
          "metadata": {},
          "execution_count": 2
        }
      ]
    },
    {
      "cell_type": "code",
      "source": [
        "try:\n",
        "    url = \"https://www.scrapethissite.com/pages/simple/\"\n",
        "\n",
        "    response = requests.get(url=url)\n",
        "    response.raise_for_status()\n",
        "\n",
        "except Exception as e:\n",
        "    print(e)\n",
        "\n",
        "else:\n",
        "    html = response.content"
      ],
      "metadata": {
        "id": "qgBkrhSNGaQe"
      },
      "execution_count": null,
      "outputs": []
    },
    {
      "cell_type": "code",
      "source": [
        "# build a soup object\n",
        "\n",
        "soup = BeautifulSoup(html, \"lxml\")"
      ],
      "metadata": {
        "id": "s6yFqSq7HDVD"
      },
      "execution_count": null,
      "outputs": []
    },
    {
      "cell_type": "code",
      "source": [
        "# prettify\n",
        "\n",
        "#print(soup.prettify())"
      ],
      "metadata": {
        "id": "fT464_upHVuq"
      },
      "execution_count": null,
      "outputs": []
    },
    {
      "cell_type": "code",
      "source": [
        "# attributes\n",
        "\n",
        "test = soup.p\n",
        "\n",
        "test"
      ],
      "metadata": {
        "colab": {
          "base_uri": "https://localhost:8080/"
        },
        "id": "VJrIKSmoHXQ5",
        "outputId": "9db22fe2-3c0a-4e54-d2ba-9e7a2413407e"
      },
      "execution_count": null,
      "outputs": [
        {
          "output_type": "execute_result",
          "data": {
            "text/plain": [
              "<p class=\"lead\">\n",
              "                            A single page that lists information about all the countries in the world. Good for those just get started with web scraping.\n",
              "                            Practice looking for patterns in the HTML that will allow you to extract information about each country. Then, build a simple web scraper that makes a request to this page, parses the HTML and prints out each country's name.\n",
              "                        </p>"
            ]
          },
          "metadata": {},
          "execution_count": 20
        }
      ]
    },
    {
      "cell_type": "code",
      "source": [
        "# tag name\n",
        "\n",
        "test.name"
      ],
      "metadata": {
        "colab": {
          "base_uri": "https://localhost:8080/",
          "height": 35
        },
        "id": "UbZyNsVeI3aT",
        "outputId": "4a331223-de8d-472e-f176-e126d403fbed"
      },
      "execution_count": null,
      "outputs": [
        {
          "output_type": "execute_result",
          "data": {
            "text/plain": [
              "'p'"
            ],
            "application/vnd.google.colaboratory.intrinsic+json": {
              "type": "string"
            }
          },
          "metadata": {},
          "execution_count": 21
        }
      ]
    },
    {
      "cell_type": "code",
      "source": [
        "# tag text\n",
        "\n",
        "print(test.text.strip())"
      ],
      "metadata": {
        "colab": {
          "base_uri": "https://localhost:8080/"
        },
        "id": "bB6egGDhJF3m",
        "outputId": "27e6f849-9af3-4b32-98dc-4a93495a0517"
      },
      "execution_count": null,
      "outputs": [
        {
          "output_type": "stream",
          "name": "stdout",
          "text": [
            "A single page that lists information about all the countries in the world. Good for those just get started with web scraping.\n",
            "                            Practice looking for patterns in the HTML that will allow you to extract information about each country. Then, build a simple web scraper that makes a request to this page, parses the HTML and prints out each country's name.\n"
          ]
        }
      ]
    },
    {
      "cell_type": "code",
      "source": [
        "test2 = soup.div\n",
        "\n",
        "print(test2.prettify())"
      ],
      "metadata": {
        "colab": {
          "base_uri": "https://localhost:8080/"
        },
        "id": "Uzewj9szJelZ",
        "outputId": "114868aa-345f-44c4-fd32-233cb5a7eb29"
      },
      "execution_count": null,
      "outputs": [
        {
          "output_type": "stream",
          "name": "stdout",
          "text": [
            "<div class=\"container\">\n",
            " <div class=\"col-md-12\">\n",
            "  <ul class=\"nav nav-tabs\">\n",
            "   <li id=\"nav-homepage\">\n",
            "    <a class=\"nav-link hidden-sm hidden-xs\" href=\"/\">\n",
            "     <img id=\"nav-logo\" src=\"/static/images/scraper-icon.png\"/>\n",
            "     Scrape This Site\n",
            "    </a>\n",
            "   </li>\n",
            "   <li id=\"nav-sandbox\">\n",
            "    <a class=\"nav-link\" href=\"/pages/\">\n",
            "     <i class=\"glyphicon glyphicon-console hidden-sm hidden-xs\">\n",
            "     </i>\n",
            "     Sandbox\n",
            "    </a>\n",
            "   </li>\n",
            "   <li id=\"nav-lessons\">\n",
            "    <a class=\"nav-link\" href=\"/lessons/\">\n",
            "     <i class=\"glyphicon glyphicon-education hidden-sm hidden-xs\">\n",
            "     </i>\n",
            "     Lessons\n",
            "    </a>\n",
            "   </li>\n",
            "   <li id=\"nav-faq\">\n",
            "    <a class=\"nav-link\" href=\"/faq/\">\n",
            "     <i class=\"glyphicon glyphicon-flag hidden-sm hidden-xs\">\n",
            "     </i>\n",
            "     FAQ\n",
            "    </a>\n",
            "   </li>\n",
            "   <li class=\"pull-right\" id=\"nav-login\">\n",
            "    <a class=\"nav-link\" href=\"/login/\">\n",
            "     Login\n",
            "    </a>\n",
            "   </li>\n",
            "  </ul>\n",
            " </div>\n",
            "</div>\n",
            "\n"
          ]
        }
      ]
    },
    {
      "cell_type": "code",
      "source": [
        "# children\n",
        "\n",
        "for child in test2.children:\n",
        "    print(child.name)"
      ],
      "metadata": {
        "colab": {
          "base_uri": "https://localhost:8080/"
        },
        "id": "EgZw-TCaJivR",
        "outputId": "537574b7-8f3a-409e-be35-25898629c469"
      },
      "execution_count": null,
      "outputs": [
        {
          "output_type": "stream",
          "name": "stdout",
          "text": [
            "None\n",
            "div\n",
            "None\n"
          ]
        }
      ]
    },
    {
      "cell_type": "code",
      "source": [
        "# descendants\n",
        "\n",
        "for desc in test2.descendants:\n",
        "    print(desc)\n",
        "    print(\"*\" * 50)"
      ],
      "metadata": {
        "colab": {
          "base_uri": "https://localhost:8080/"
        },
        "id": "FW5oAVYZLF4W",
        "outputId": "ecf2509f-8424-4270-82f7-03c5b0a4912c"
      },
      "execution_count": null,
      "outputs": [
        {
          "output_type": "stream",
          "name": "stdout",
          "text": [
            "\n",
            "\n",
            "**************************************************\n",
            "<div class=\"col-md-12\">\n",
            "<ul class=\"nav nav-tabs\">\n",
            "<li id=\"nav-homepage\">\n",
            "<a class=\"nav-link hidden-sm hidden-xs\" href=\"/\">\n",
            "<img id=\"nav-logo\" src=\"/static/images/scraper-icon.png\"/>\n",
            "                                Scrape This Site\n",
            "                            </a>\n",
            "</li>\n",
            "<li id=\"nav-sandbox\">\n",
            "<a class=\"nav-link\" href=\"/pages/\">\n",
            "<i class=\"glyphicon glyphicon-console hidden-sm hidden-xs\"></i>\n",
            "                                Sandbox\n",
            "                            </a>\n",
            "</li>\n",
            "<li id=\"nav-lessons\">\n",
            "<a class=\"nav-link\" href=\"/lessons/\">\n",
            "<i class=\"glyphicon glyphicon-education hidden-sm hidden-xs\"></i>\n",
            "                                Lessons\n",
            "                            </a>\n",
            "</li>\n",
            "<li id=\"nav-faq\">\n",
            "<a class=\"nav-link\" href=\"/faq/\">\n",
            "<i class=\"glyphicon glyphicon-flag hidden-sm hidden-xs\"></i>\n",
            "                                FAQ\n",
            "                            </a>\n",
            "</li>\n",
            "<li class=\"pull-right\" id=\"nav-login\">\n",
            "<a class=\"nav-link\" href=\"/login/\">\n",
            "                                Login\n",
            "                            </a>\n",
            "</li>\n",
            "</ul>\n",
            "</div>\n",
            "**************************************************\n",
            "\n",
            "\n",
            "**************************************************\n",
            "<ul class=\"nav nav-tabs\">\n",
            "<li id=\"nav-homepage\">\n",
            "<a class=\"nav-link hidden-sm hidden-xs\" href=\"/\">\n",
            "<img id=\"nav-logo\" src=\"/static/images/scraper-icon.png\"/>\n",
            "                                Scrape This Site\n",
            "                            </a>\n",
            "</li>\n",
            "<li id=\"nav-sandbox\">\n",
            "<a class=\"nav-link\" href=\"/pages/\">\n",
            "<i class=\"glyphicon glyphicon-console hidden-sm hidden-xs\"></i>\n",
            "                                Sandbox\n",
            "                            </a>\n",
            "</li>\n",
            "<li id=\"nav-lessons\">\n",
            "<a class=\"nav-link\" href=\"/lessons/\">\n",
            "<i class=\"glyphicon glyphicon-education hidden-sm hidden-xs\"></i>\n",
            "                                Lessons\n",
            "                            </a>\n",
            "</li>\n",
            "<li id=\"nav-faq\">\n",
            "<a class=\"nav-link\" href=\"/faq/\">\n",
            "<i class=\"glyphicon glyphicon-flag hidden-sm hidden-xs\"></i>\n",
            "                                FAQ\n",
            "                            </a>\n",
            "</li>\n",
            "<li class=\"pull-right\" id=\"nav-login\">\n",
            "<a class=\"nav-link\" href=\"/login/\">\n",
            "                                Login\n",
            "                            </a>\n",
            "</li>\n",
            "</ul>\n",
            "**************************************************\n",
            "\n",
            "\n",
            "**************************************************\n",
            "<li id=\"nav-homepage\">\n",
            "<a class=\"nav-link hidden-sm hidden-xs\" href=\"/\">\n",
            "<img id=\"nav-logo\" src=\"/static/images/scraper-icon.png\"/>\n",
            "                                Scrape This Site\n",
            "                            </a>\n",
            "</li>\n",
            "**************************************************\n",
            "\n",
            "\n",
            "**************************************************\n",
            "<a class=\"nav-link hidden-sm hidden-xs\" href=\"/\">\n",
            "<img id=\"nav-logo\" src=\"/static/images/scraper-icon.png\"/>\n",
            "                                Scrape This Site\n",
            "                            </a>\n",
            "**************************************************\n",
            "\n",
            "\n",
            "**************************************************\n",
            "<img id=\"nav-logo\" src=\"/static/images/scraper-icon.png\"/>\n",
            "**************************************************\n",
            "\n",
            "                                Scrape This Site\n",
            "                            \n",
            "**************************************************\n",
            "\n",
            "\n",
            "**************************************************\n",
            "\n",
            "\n",
            "**************************************************\n",
            "<li id=\"nav-sandbox\">\n",
            "<a class=\"nav-link\" href=\"/pages/\">\n",
            "<i class=\"glyphicon glyphicon-console hidden-sm hidden-xs\"></i>\n",
            "                                Sandbox\n",
            "                            </a>\n",
            "</li>\n",
            "**************************************************\n",
            "\n",
            "\n",
            "**************************************************\n",
            "<a class=\"nav-link\" href=\"/pages/\">\n",
            "<i class=\"glyphicon glyphicon-console hidden-sm hidden-xs\"></i>\n",
            "                                Sandbox\n",
            "                            </a>\n",
            "**************************************************\n",
            "\n",
            "\n",
            "**************************************************\n",
            "<i class=\"glyphicon glyphicon-console hidden-sm hidden-xs\"></i>\n",
            "**************************************************\n",
            "\n",
            "                                Sandbox\n",
            "                            \n",
            "**************************************************\n",
            "\n",
            "\n",
            "**************************************************\n",
            "\n",
            "\n",
            "**************************************************\n",
            "<li id=\"nav-lessons\">\n",
            "<a class=\"nav-link\" href=\"/lessons/\">\n",
            "<i class=\"glyphicon glyphicon-education hidden-sm hidden-xs\"></i>\n",
            "                                Lessons\n",
            "                            </a>\n",
            "</li>\n",
            "**************************************************\n",
            "\n",
            "\n",
            "**************************************************\n",
            "<a class=\"nav-link\" href=\"/lessons/\">\n",
            "<i class=\"glyphicon glyphicon-education hidden-sm hidden-xs\"></i>\n",
            "                                Lessons\n",
            "                            </a>\n",
            "**************************************************\n",
            "\n",
            "\n",
            "**************************************************\n",
            "<i class=\"glyphicon glyphicon-education hidden-sm hidden-xs\"></i>\n",
            "**************************************************\n",
            "\n",
            "                                Lessons\n",
            "                            \n",
            "**************************************************\n",
            "\n",
            "\n",
            "**************************************************\n",
            "\n",
            "\n",
            "**************************************************\n",
            "<li id=\"nav-faq\">\n",
            "<a class=\"nav-link\" href=\"/faq/\">\n",
            "<i class=\"glyphicon glyphicon-flag hidden-sm hidden-xs\"></i>\n",
            "                                FAQ\n",
            "                            </a>\n",
            "</li>\n",
            "**************************************************\n",
            "\n",
            "\n",
            "**************************************************\n",
            "<a class=\"nav-link\" href=\"/faq/\">\n",
            "<i class=\"glyphicon glyphicon-flag hidden-sm hidden-xs\"></i>\n",
            "                                FAQ\n",
            "                            </a>\n",
            "**************************************************\n",
            "\n",
            "\n",
            "**************************************************\n",
            "<i class=\"glyphicon glyphicon-flag hidden-sm hidden-xs\"></i>\n",
            "**************************************************\n",
            "\n",
            "                                FAQ\n",
            "                            \n",
            "**************************************************\n",
            "\n",
            "\n",
            "**************************************************\n",
            "\n",
            "\n",
            "**************************************************\n",
            "<li class=\"pull-right\" id=\"nav-login\">\n",
            "<a class=\"nav-link\" href=\"/login/\">\n",
            "                                Login\n",
            "                            </a>\n",
            "</li>\n",
            "**************************************************\n",
            "\n",
            "\n",
            "**************************************************\n",
            "<a class=\"nav-link\" href=\"/login/\">\n",
            "                                Login\n",
            "                            </a>\n",
            "**************************************************\n",
            "\n",
            "                                Login\n",
            "                            \n",
            "**************************************************\n",
            "\n",
            "\n",
            "**************************************************\n",
            "\n",
            "\n",
            "**************************************************\n",
            "\n",
            "\n",
            "**************************************************\n",
            "\n",
            "\n",
            "**************************************************\n"
          ]
        }
      ]
    },
    {
      "cell_type": "code",
      "source": [
        "test3 = soup.ul\n",
        "\n",
        "test3"
      ],
      "metadata": {
        "colab": {
          "base_uri": "https://localhost:8080/"
        },
        "id": "w9PvK5EcL9a7",
        "outputId": "f678285e-d8c6-4cd5-f427-602e15621614"
      },
      "execution_count": null,
      "outputs": [
        {
          "output_type": "execute_result",
          "data": {
            "text/plain": [
              "<ul class=\"nav nav-tabs\">\n",
              "<li id=\"nav-homepage\">\n",
              "<a class=\"nav-link hidden-sm hidden-xs\" href=\"/\">\n",
              "<img id=\"nav-logo\" src=\"/static/images/scraper-icon.png\"/>\n",
              "                                Scrape This Site\n",
              "                            </a>\n",
              "</li>\n",
              "<li id=\"nav-sandbox\">\n",
              "<a class=\"nav-link\" href=\"/pages/\">\n",
              "<i class=\"glyphicon glyphicon-console hidden-sm hidden-xs\"></i>\n",
              "                                Sandbox\n",
              "                            </a>\n",
              "</li>\n",
              "<li id=\"nav-lessons\">\n",
              "<a class=\"nav-link\" href=\"/lessons/\">\n",
              "<i class=\"glyphicon glyphicon-education hidden-sm hidden-xs\"></i>\n",
              "                                Lessons\n",
              "                            </a>\n",
              "</li>\n",
              "<li id=\"nav-faq\">\n",
              "<a class=\"nav-link\" href=\"/faq/\">\n",
              "<i class=\"glyphicon glyphicon-flag hidden-sm hidden-xs\"></i>\n",
              "                                FAQ\n",
              "                            </a>\n",
              "</li>\n",
              "<li class=\"pull-right\" id=\"nav-login\">\n",
              "<a class=\"nav-link\" href=\"/login/\">\n",
              "                                Login\n",
              "                            </a>\n",
              "</li>\n",
              "</ul>"
            ]
          },
          "metadata": {},
          "execution_count": 50
        }
      ]
    },
    {
      "cell_type": "code",
      "source": [
        "for sibling in test3.next_siblings:\n",
        "    print(sibling)"
      ],
      "metadata": {
        "colab": {
          "base_uri": "https://localhost:8080/"
        },
        "id": "_3gkeaqwLnS8",
        "outputId": "07fe425c-ee7f-4b3b-efbe-e894123f5ad8"
      },
      "execution_count": null,
      "outputs": [
        {
          "output_type": "stream",
          "name": "stdout",
          "text": [
            "\n",
            "\n"
          ]
        }
      ]
    },
    {
      "cell_type": "code",
      "source": [
        "test2"
      ],
      "metadata": {
        "colab": {
          "base_uri": "https://localhost:8080/"
        },
        "id": "WrT54iXoMd8h",
        "outputId": "063dc9e0-2f06-4038-dab7-627f1e651e6a"
      },
      "execution_count": null,
      "outputs": [
        {
          "output_type": "execute_result",
          "data": {
            "text/plain": [
              "<div class=\"container\">\n",
              "<div class=\"col-md-12\">\n",
              "<ul class=\"nav nav-tabs\">\n",
              "<li id=\"nav-homepage\">\n",
              "<a class=\"nav-link hidden-sm hidden-xs\" href=\"/\">\n",
              "<img id=\"nav-logo\" src=\"/static/images/scraper-icon.png\"/>\n",
              "                                Scrape This Site\n",
              "                            </a>\n",
              "</li>\n",
              "<li id=\"nav-sandbox\">\n",
              "<a class=\"nav-link\" href=\"/pages/\">\n",
              "<i class=\"glyphicon glyphicon-console hidden-sm hidden-xs\"></i>\n",
              "                                Sandbox\n",
              "                            </a>\n",
              "</li>\n",
              "<li id=\"nav-lessons\">\n",
              "<a class=\"nav-link\" href=\"/lessons/\">\n",
              "<i class=\"glyphicon glyphicon-education hidden-sm hidden-xs\"></i>\n",
              "                                Lessons\n",
              "                            </a>\n",
              "</li>\n",
              "<li id=\"nav-faq\">\n",
              "<a class=\"nav-link\" href=\"/faq/\">\n",
              "<i class=\"glyphicon glyphicon-flag hidden-sm hidden-xs\"></i>\n",
              "                                FAQ\n",
              "                            </a>\n",
              "</li>\n",
              "<li class=\"pull-right\" id=\"nav-login\">\n",
              "<a class=\"nav-link\" href=\"/login/\">\n",
              "                                Login\n",
              "                            </a>\n",
              "</li>\n",
              "</ul>\n",
              "</div>\n",
              "</div>"
            ]
          },
          "metadata": {},
          "execution_count": 51
        }
      ]
    },
    {
      "cell_type": "code",
      "source": [
        "# find and find all\n",
        "\n",
        "soup.find(\"div\", {\"class\": \"col-md-12\"})"
      ],
      "metadata": {
        "colab": {
          "base_uri": "https://localhost:8080/"
        },
        "id": "F4K3dPKVMMHN",
        "outputId": "de60fe2a-4af8-4efe-8bcc-d8f313bd24a5"
      },
      "execution_count": null,
      "outputs": [
        {
          "output_type": "execute_result",
          "data": {
            "text/plain": [
              "<div class=\"col-md-12\">\n",
              "<ul class=\"nav nav-tabs\">\n",
              "<li id=\"nav-homepage\">\n",
              "<a class=\"nav-link hidden-sm hidden-xs\" href=\"/\">\n",
              "<img id=\"nav-logo\" src=\"/static/images/scraper-icon.png\"/>\n",
              "                                Scrape This Site\n",
              "                            </a>\n",
              "</li>\n",
              "<li id=\"nav-sandbox\">\n",
              "<a class=\"nav-link\" href=\"/pages/\">\n",
              "<i class=\"glyphicon glyphicon-console hidden-sm hidden-xs\"></i>\n",
              "                                Sandbox\n",
              "                            </a>\n",
              "</li>\n",
              "<li id=\"nav-lessons\">\n",
              "<a class=\"nav-link\" href=\"/lessons/\">\n",
              "<i class=\"glyphicon glyphicon-education hidden-sm hidden-xs\"></i>\n",
              "                                Lessons\n",
              "                            </a>\n",
              "</li>\n",
              "<li id=\"nav-faq\">\n",
              "<a class=\"nav-link\" href=\"/faq/\">\n",
              "<i class=\"glyphicon glyphicon-flag hidden-sm hidden-xs\"></i>\n",
              "                                FAQ\n",
              "                            </a>\n",
              "</li>\n",
              "<li class=\"pull-right\" id=\"nav-login\">\n",
              "<a class=\"nav-link\" href=\"/login/\">\n",
              "                                Login\n",
              "                            </a>\n",
              "</li>\n",
              "</ul>\n",
              "</div>"
            ]
          },
          "metadata": {},
          "execution_count": 53
        }
      ]
    },
    {
      "cell_type": "code",
      "source": [
        "element = soup.find(\"li\", {\"id\": \"nav-homepage\"})"
      ],
      "metadata": {
        "id": "5SROIG0xM_0d"
      },
      "execution_count": null,
      "outputs": []
    },
    {
      "cell_type": "code",
      "source": [
        "element[\"id\"]"
      ],
      "metadata": {
        "colab": {
          "base_uri": "https://localhost:8080/",
          "height": 35
        },
        "id": "Wggr0cWMNx_Z",
        "outputId": "f531c972-b1d4-4ff8-fd22-5881afeb7a26"
      },
      "execution_count": null,
      "outputs": [
        {
          "output_type": "execute_result",
          "data": {
            "text/plain": [
              "'nav-homepage'"
            ],
            "application/vnd.google.colaboratory.intrinsic+json": {
              "type": "string"
            }
          },
          "metadata": {},
          "execution_count": 59
        }
      ]
    },
    {
      "cell_type": "code",
      "source": [
        "element.get(\"id\")"
      ],
      "metadata": {
        "colab": {
          "base_uri": "https://localhost:8080/",
          "height": 35
        },
        "id": "yvAKMheRN58F",
        "outputId": "7a506328-7328-40d6-bfce-caec07fb92db"
      },
      "execution_count": null,
      "outputs": [
        {
          "output_type": "execute_result",
          "data": {
            "text/plain": [
              "'nav-homepage'"
            ],
            "application/vnd.google.colaboratory.intrinsic+json": {
              "type": "string"
            }
          },
          "metadata": {},
          "execution_count": 60
        }
      ]
    },
    {
      "cell_type": "code",
      "source": [
        "soup.find_all(\"li\")"
      ],
      "metadata": {
        "colab": {
          "base_uri": "https://localhost:8080/"
        },
        "id": "xtx_zlaRNQpT",
        "outputId": "f550e811-60eb-4b28-8a41-ad4297e3b72f"
      },
      "execution_count": null,
      "outputs": [
        {
          "output_type": "execute_result",
          "data": {
            "text/plain": [
              "[<li id=\"nav-homepage\">\n",
              " <a class=\"nav-link hidden-sm hidden-xs\" href=\"/\">\n",
              " <img id=\"nav-logo\" src=\"/static/images/scraper-icon.png\"/>\n",
              "                                 Scrape This Site\n",
              "                             </a>\n",
              " </li>,\n",
              " <li id=\"nav-sandbox\">\n",
              " <a class=\"nav-link\" href=\"/pages/\">\n",
              " <i class=\"glyphicon glyphicon-console hidden-sm hidden-xs\"></i>\n",
              "                                 Sandbox\n",
              "                             </a>\n",
              " </li>,\n",
              " <li id=\"nav-lessons\">\n",
              " <a class=\"nav-link\" href=\"/lessons/\">\n",
              " <i class=\"glyphicon glyphicon-education hidden-sm hidden-xs\"></i>\n",
              "                                 Lessons\n",
              "                             </a>\n",
              " </li>,\n",
              " <li id=\"nav-faq\">\n",
              " <a class=\"nav-link\" href=\"/faq/\">\n",
              " <i class=\"glyphicon glyphicon-flag hidden-sm hidden-xs\"></i>\n",
              "                                 FAQ\n",
              "                             </a>\n",
              " </li>,\n",
              " <li class=\"pull-right\" id=\"nav-login\">\n",
              " <a class=\"nav-link\" href=\"/login/\">\n",
              "                                 Login\n",
              "                             </a>\n",
              " </li>]"
            ]
          },
          "metadata": {},
          "execution_count": 56
        }
      ]
    },
    {
      "cell_type": "markdown",
      "source": [
        "# Case Study"
      ],
      "metadata": {
        "id": "8nECfNPeOZny"
      }
    },
    {
      "cell_type": "code",
      "source": [
        "# get html code through http request\n",
        "\n",
        "try:\n",
        "    url = \"https://www.scrapethissite.com/pages/simple/\"\n",
        "\n",
        "    response = requests.get(url=url)\n",
        "    response.raise_for_status()\n",
        "\n",
        "except Exception as e:\n",
        "    print(e)\n",
        "\n",
        "else:\n",
        "    html = response.content"
      ],
      "metadata": {
        "id": "ztJz8P7WOM0d"
      },
      "execution_count": null,
      "outputs": []
    },
    {
      "cell_type": "code",
      "source": [
        "# build a soup object\n",
        "\n",
        "soup = BeautifulSoup(html, \"lxml\")"
      ],
      "metadata": {
        "id": "QeKLUa6aOeT2"
      },
      "execution_count": null,
      "outputs": []
    },
    {
      "cell_type": "code",
      "source": [
        "# extract all countries data\n",
        "\n",
        "countries_data = soup.find_all(\"div\", {\"class\": \"col-md-4 country\"})\n",
        "\n",
        "len(countries_data)"
      ],
      "metadata": {
        "colab": {
          "base_uri": "https://localhost:8080/"
        },
        "id": "e5mPYv9ROjk6",
        "outputId": "d1d5151c-f017-457d-a163-0220e8b63bfc"
      },
      "execution_count": null,
      "outputs": [
        {
          "output_type": "execute_result",
          "data": {
            "text/plain": [
              "250"
            ]
          },
          "metadata": {},
          "execution_count": 66
        }
      ]
    },
    {
      "cell_type": "code",
      "source": [
        "country_1 = countries_data[0]\n",
        "\n",
        "country_1"
      ],
      "metadata": {
        "colab": {
          "base_uri": "https://localhost:8080/"
        },
        "id": "goGN5qtHQb6A",
        "outputId": "987be3ef-9ff3-4c51-e6ae-ad81765efa21"
      },
      "execution_count": null,
      "outputs": [
        {
          "output_type": "execute_result",
          "data": {
            "text/plain": [
              "<div class=\"col-md-4 country\">\n",
              "<h3 class=\"country-name\">\n",
              "<i class=\"flag-icon flag-icon-ad\"></i>\n",
              "                            Andorra\n",
              "                        </h3>\n",
              "<div class=\"country-info\">\n",
              "<strong>Capital:</strong> <span class=\"country-capital\">Andorra la Vella</span><br/>\n",
              "<strong>Population:</strong> <span class=\"country-population\">84000</span><br/>\n",
              "<strong>Area (km<sup>2</sup>):</strong> <span class=\"country-area\">468.0</span><br/>\n",
              "</div>\n",
              "</div>"
            ]
          },
          "metadata": {},
          "execution_count": 68
        }
      ]
    },
    {
      "cell_type": "code",
      "source": [
        "# country name\n",
        "\n",
        "country_1.find(\"h3\").get_text(strip=True)"
      ],
      "metadata": {
        "colab": {
          "base_uri": "https://localhost:8080/",
          "height": 35
        },
        "id": "8HE89t6pQ0YN",
        "outputId": "7636293c-a904-4b46-eb5e-aae1d5846984"
      },
      "execution_count": null,
      "outputs": [
        {
          "output_type": "execute_result",
          "data": {
            "text/plain": [
              "'Andorra'"
            ],
            "application/vnd.google.colaboratory.intrinsic+json": {
              "type": "string"
            }
          },
          "metadata": {},
          "execution_count": 71
        }
      ]
    },
    {
      "cell_type": "code",
      "source": [
        "span = country_1.find_all(\"span\")"
      ],
      "metadata": {
        "id": "5CPTsSYzRpRm"
      },
      "execution_count": null,
      "outputs": []
    },
    {
      "cell_type": "code",
      "source": [
        "# country capital\n",
        "\n",
        "span[0].get_text(strip=True)"
      ],
      "metadata": {
        "colab": {
          "base_uri": "https://localhost:8080/",
          "height": 35
        },
        "id": "kKWPgHEgRKRx",
        "outputId": "00101c79-284d-4d0c-83db-05836c6f789f"
      },
      "execution_count": null,
      "outputs": [
        {
          "output_type": "execute_result",
          "data": {
            "text/plain": [
              "'Andorra la Vella'"
            ],
            "application/vnd.google.colaboratory.intrinsic+json": {
              "type": "string"
            }
          },
          "metadata": {},
          "execution_count": 78
        }
      ]
    },
    {
      "cell_type": "code",
      "source": [
        "# country population\n",
        "\n",
        "span[1].get_text(strip=True)"
      ],
      "metadata": {
        "colab": {
          "base_uri": "https://localhost:8080/",
          "height": 35
        },
        "id": "C19G4tN4Rn61",
        "outputId": "eb99e985-8bed-4223-8fce-23bc4b6608c4"
      },
      "execution_count": null,
      "outputs": [
        {
          "output_type": "execute_result",
          "data": {
            "text/plain": [
              "'84000'"
            ],
            "application/vnd.google.colaboratory.intrinsic+json": {
              "type": "string"
            }
          },
          "metadata": {},
          "execution_count": 79
        }
      ]
    },
    {
      "cell_type": "code",
      "source": [
        "# country area\n",
        "\n",
        "span[2].get_text(strip=True)"
      ],
      "metadata": {
        "colab": {
          "base_uri": "https://localhost:8080/",
          "height": 35
        },
        "id": "Aaf_xOSvRzF0",
        "outputId": "62c7aaf0-768e-4d87-ae5a-54794fc8f09f"
      },
      "execution_count": null,
      "outputs": [
        {
          "output_type": "execute_result",
          "data": {
            "text/plain": [
              "'468.0'"
            ],
            "application/vnd.google.colaboratory.intrinsic+json": {
              "type": "string"
            }
          },
          "metadata": {},
          "execution_count": 80
        }
      ]
    },
    {
      "cell_type": "code",
      "source": [
        "country_1.find(\"span\",{\"class\": \"country-capital\"})"
      ],
      "metadata": {
        "colab": {
          "base_uri": "https://localhost:8080/"
        },
        "id": "y5RgoF6HTG6M",
        "outputId": "14c26363-0697-4f29-9fbc-da42c7a8dbaa"
      },
      "execution_count": null,
      "outputs": [
        {
          "output_type": "execute_result",
          "data": {
            "text/plain": [
              "<span class=\"country-capital\">Andorra la Vella</span>"
            ]
          },
          "metadata": {},
          "execution_count": 83
        }
      ]
    },
    {
      "cell_type": "code",
      "source": [
        "list(map(lambda x: x**2, list(range(1,11))))"
      ],
      "metadata": {
        "colab": {
          "base_uri": "https://localhost:8080/"
        },
        "id": "HSGPJPrFToU8",
        "outputId": "21d102e9-ea5e-45b8-a9ed-1abd5ce27624"
      },
      "execution_count": null,
      "outputs": [
        {
          "output_type": "execute_result",
          "data": {
            "text/plain": [
              "[1, 4, 9, 16, 25, 36, 49, 64, 81, 100]"
            ]
          },
          "metadata": {},
          "execution_count": 88
        }
      ]
    },
    {
      "cell_type": "code",
      "source": [
        "data = {\n",
        "    \"country\": [country.find(\"h3\").get_text(strip=True) for country in countries_data],\n",
        "    \"capital\": [country.find(\"span\",{\"class\": \"country-capital\"}).get_text(strip=True) for country in countries_data],\n",
        "    \"population\": [country.find(\"span\",{\"class\": \"country-population\"}).get_text(strip=True) for country in countries_data],\n",
        "    \"area\": [country.find(\"span\",{\"class\": \"country-area\"}).get_text(strip=True) for country in countries_data]\n",
        "}\n",
        "\n",
        "\n",
        "len(data[\"country\"])"
      ],
      "metadata": {
        "colab": {
          "base_uri": "https://localhost:8080/"
        },
        "id": "FLX-6vrTSEbC",
        "outputId": "fe23cd62-8024-42c8-faa8-2099f0903437"
      },
      "execution_count": null,
      "outputs": [
        {
          "output_type": "execute_result",
          "data": {
            "text/plain": [
              "250"
            ]
          },
          "metadata": {},
          "execution_count": 84
        }
      ]
    },
    {
      "cell_type": "code",
      "source": [
        "df = pd.DataFrame(data)\n",
        "\n",
        "df"
      ],
      "metadata": {
        "colab": {
          "base_uri": "https://localhost:8080/",
          "height": 424
        },
        "id": "78vMeykdS9dG",
        "outputId": "d59c74e9-5694-40e7-a794-87bb3c62b331"
      },
      "execution_count": null,
      "outputs": [
        {
          "output_type": "execute_result",
          "data": {
            "text/plain": [
              "                  country           capital population       area\n",
              "0                 Andorra  Andorra la Vella      84000      468.0\n",
              "1    United Arab Emirates         Abu Dhabi    4975593    82880.0\n",
              "2             Afghanistan             Kabul   29121286   647500.0\n",
              "3     Antigua and Barbuda        St. John's      86754      443.0\n",
              "4                Anguilla        The Valley      13254      102.0\n",
              "..                    ...               ...        ...        ...\n",
              "245                 Yemen             Sanaa   23495361   527970.0\n",
              "246               Mayotte         Mamoudzou     159042      374.0\n",
              "247          South Africa          Pretoria   49000000  1219912.0\n",
              "248                Zambia            Lusaka   13460305   752614.0\n",
              "249              Zimbabwe            Harare   11651858   390580.0\n",
              "\n",
              "[250 rows x 4 columns]"
            ],
            "text/html": [
              "\n",
              "  <div id=\"df-30079633-0715-4c99-acbe-f1c6c52a6d1c\" class=\"colab-df-container\">\n",
              "    <div>\n",
              "<style scoped>\n",
              "    .dataframe tbody tr th:only-of-type {\n",
              "        vertical-align: middle;\n",
              "    }\n",
              "\n",
              "    .dataframe tbody tr th {\n",
              "        vertical-align: top;\n",
              "    }\n",
              "\n",
              "    .dataframe thead th {\n",
              "        text-align: right;\n",
              "    }\n",
              "</style>\n",
              "<table border=\"1\" class=\"dataframe\">\n",
              "  <thead>\n",
              "    <tr style=\"text-align: right;\">\n",
              "      <th></th>\n",
              "      <th>country</th>\n",
              "      <th>capital</th>\n",
              "      <th>population</th>\n",
              "      <th>area</th>\n",
              "    </tr>\n",
              "  </thead>\n",
              "  <tbody>\n",
              "    <tr>\n",
              "      <th>0</th>\n",
              "      <td>Andorra</td>\n",
              "      <td>Andorra la Vella</td>\n",
              "      <td>84000</td>\n",
              "      <td>468.0</td>\n",
              "    </tr>\n",
              "    <tr>\n",
              "      <th>1</th>\n",
              "      <td>United Arab Emirates</td>\n",
              "      <td>Abu Dhabi</td>\n",
              "      <td>4975593</td>\n",
              "      <td>82880.0</td>\n",
              "    </tr>\n",
              "    <tr>\n",
              "      <th>2</th>\n",
              "      <td>Afghanistan</td>\n",
              "      <td>Kabul</td>\n",
              "      <td>29121286</td>\n",
              "      <td>647500.0</td>\n",
              "    </tr>\n",
              "    <tr>\n",
              "      <th>3</th>\n",
              "      <td>Antigua and Barbuda</td>\n",
              "      <td>St. John's</td>\n",
              "      <td>86754</td>\n",
              "      <td>443.0</td>\n",
              "    </tr>\n",
              "    <tr>\n",
              "      <th>4</th>\n",
              "      <td>Anguilla</td>\n",
              "      <td>The Valley</td>\n",
              "      <td>13254</td>\n",
              "      <td>102.0</td>\n",
              "    </tr>\n",
              "    <tr>\n",
              "      <th>...</th>\n",
              "      <td>...</td>\n",
              "      <td>...</td>\n",
              "      <td>...</td>\n",
              "      <td>...</td>\n",
              "    </tr>\n",
              "    <tr>\n",
              "      <th>245</th>\n",
              "      <td>Yemen</td>\n",
              "      <td>Sanaa</td>\n",
              "      <td>23495361</td>\n",
              "      <td>527970.0</td>\n",
              "    </tr>\n",
              "    <tr>\n",
              "      <th>246</th>\n",
              "      <td>Mayotte</td>\n",
              "      <td>Mamoudzou</td>\n",
              "      <td>159042</td>\n",
              "      <td>374.0</td>\n",
              "    </tr>\n",
              "    <tr>\n",
              "      <th>247</th>\n",
              "      <td>South Africa</td>\n",
              "      <td>Pretoria</td>\n",
              "      <td>49000000</td>\n",
              "      <td>1219912.0</td>\n",
              "    </tr>\n",
              "    <tr>\n",
              "      <th>248</th>\n",
              "      <td>Zambia</td>\n",
              "      <td>Lusaka</td>\n",
              "      <td>13460305</td>\n",
              "      <td>752614.0</td>\n",
              "    </tr>\n",
              "    <tr>\n",
              "      <th>249</th>\n",
              "      <td>Zimbabwe</td>\n",
              "      <td>Harare</td>\n",
              "      <td>11651858</td>\n",
              "      <td>390580.0</td>\n",
              "    </tr>\n",
              "  </tbody>\n",
              "</table>\n",
              "<p>250 rows × 4 columns</p>\n",
              "</div>\n",
              "    <div class=\"colab-df-buttons\">\n",
              "\n",
              "  <div class=\"colab-df-container\">\n",
              "    <button class=\"colab-df-convert\" onclick=\"convertToInteractive('df-30079633-0715-4c99-acbe-f1c6c52a6d1c')\"\n",
              "            title=\"Convert this dataframe to an interactive table.\"\n",
              "            style=\"display:none;\">\n",
              "\n",
              "  <svg xmlns=\"http://www.w3.org/2000/svg\" height=\"24px\" viewBox=\"0 -960 960 960\">\n",
              "    <path d=\"M120-120v-720h720v720H120Zm60-500h600v-160H180v160Zm220 220h160v-160H400v160Zm0 220h160v-160H400v160ZM180-400h160v-160H180v160Zm440 0h160v-160H620v160ZM180-180h160v-160H180v160Zm440 0h160v-160H620v160Z\"/>\n",
              "  </svg>\n",
              "    </button>\n",
              "\n",
              "  <style>\n",
              "    .colab-df-container {\n",
              "      display:flex;\n",
              "      gap: 12px;\n",
              "    }\n",
              "\n",
              "    .colab-df-convert {\n",
              "      background-color: #E8F0FE;\n",
              "      border: none;\n",
              "      border-radius: 50%;\n",
              "      cursor: pointer;\n",
              "      display: none;\n",
              "      fill: #1967D2;\n",
              "      height: 32px;\n",
              "      padding: 0 0 0 0;\n",
              "      width: 32px;\n",
              "    }\n",
              "\n",
              "    .colab-df-convert:hover {\n",
              "      background-color: #E2EBFA;\n",
              "      box-shadow: 0px 1px 2px rgba(60, 64, 67, 0.3), 0px 1px 3px 1px rgba(60, 64, 67, 0.15);\n",
              "      fill: #174EA6;\n",
              "    }\n",
              "\n",
              "    .colab-df-buttons div {\n",
              "      margin-bottom: 4px;\n",
              "    }\n",
              "\n",
              "    [theme=dark] .colab-df-convert {\n",
              "      background-color: #3B4455;\n",
              "      fill: #D2E3FC;\n",
              "    }\n",
              "\n",
              "    [theme=dark] .colab-df-convert:hover {\n",
              "      background-color: #434B5C;\n",
              "      box-shadow: 0px 1px 3px 1px rgba(0, 0, 0, 0.15);\n",
              "      filter: drop-shadow(0px 1px 2px rgba(0, 0, 0, 0.3));\n",
              "      fill: #FFFFFF;\n",
              "    }\n",
              "  </style>\n",
              "\n",
              "    <script>\n",
              "      const buttonEl =\n",
              "        document.querySelector('#df-30079633-0715-4c99-acbe-f1c6c52a6d1c button.colab-df-convert');\n",
              "      buttonEl.style.display =\n",
              "        google.colab.kernel.accessAllowed ? 'block' : 'none';\n",
              "\n",
              "      async function convertToInteractive(key) {\n",
              "        const element = document.querySelector('#df-30079633-0715-4c99-acbe-f1c6c52a6d1c');\n",
              "        const dataTable =\n",
              "          await google.colab.kernel.invokeFunction('convertToInteractive',\n",
              "                                                    [key], {});\n",
              "        if (!dataTable) return;\n",
              "\n",
              "        const docLinkHtml = 'Like what you see? Visit the ' +\n",
              "          '<a target=\"_blank\" href=https://colab.research.google.com/notebooks/data_table.ipynb>data table notebook</a>'\n",
              "          + ' to learn more about interactive tables.';\n",
              "        element.innerHTML = '';\n",
              "        dataTable['output_type'] = 'display_data';\n",
              "        await google.colab.output.renderOutput(dataTable, element);\n",
              "        const docLink = document.createElement('div');\n",
              "        docLink.innerHTML = docLinkHtml;\n",
              "        element.appendChild(docLink);\n",
              "      }\n",
              "    </script>\n",
              "  </div>\n",
              "\n",
              "\n",
              "    <div id=\"df-dcae8137-3e85-49e4-9d75-2da4a60855f1\">\n",
              "      <button class=\"colab-df-quickchart\" onclick=\"quickchart('df-dcae8137-3e85-49e4-9d75-2da4a60855f1')\"\n",
              "                title=\"Suggest charts\"\n",
              "                style=\"display:none;\">\n",
              "\n",
              "<svg xmlns=\"http://www.w3.org/2000/svg\" height=\"24px\"viewBox=\"0 0 24 24\"\n",
              "     width=\"24px\">\n",
              "    <g>\n",
              "        <path d=\"M19 3H5c-1.1 0-2 .9-2 2v14c0 1.1.9 2 2 2h14c1.1 0 2-.9 2-2V5c0-1.1-.9-2-2-2zM9 17H7v-7h2v7zm4 0h-2V7h2v10zm4 0h-2v-4h2v4z\"/>\n",
              "    </g>\n",
              "</svg>\n",
              "      </button>\n",
              "\n",
              "<style>\n",
              "  .colab-df-quickchart {\n",
              "      --bg-color: #E8F0FE;\n",
              "      --fill-color: #1967D2;\n",
              "      --hover-bg-color: #E2EBFA;\n",
              "      --hover-fill-color: #174EA6;\n",
              "      --disabled-fill-color: #AAA;\n",
              "      --disabled-bg-color: #DDD;\n",
              "  }\n",
              "\n",
              "  [theme=dark] .colab-df-quickchart {\n",
              "      --bg-color: #3B4455;\n",
              "      --fill-color: #D2E3FC;\n",
              "      --hover-bg-color: #434B5C;\n",
              "      --hover-fill-color: #FFFFFF;\n",
              "      --disabled-bg-color: #3B4455;\n",
              "      --disabled-fill-color: #666;\n",
              "  }\n",
              "\n",
              "  .colab-df-quickchart {\n",
              "    background-color: var(--bg-color);\n",
              "    border: none;\n",
              "    border-radius: 50%;\n",
              "    cursor: pointer;\n",
              "    display: none;\n",
              "    fill: var(--fill-color);\n",
              "    height: 32px;\n",
              "    padding: 0;\n",
              "    width: 32px;\n",
              "  }\n",
              "\n",
              "  .colab-df-quickchart:hover {\n",
              "    background-color: var(--hover-bg-color);\n",
              "    box-shadow: 0 1px 2px rgba(60, 64, 67, 0.3), 0 1px 3px 1px rgba(60, 64, 67, 0.15);\n",
              "    fill: var(--button-hover-fill-color);\n",
              "  }\n",
              "\n",
              "  .colab-df-quickchart-complete:disabled,\n",
              "  .colab-df-quickchart-complete:disabled:hover {\n",
              "    background-color: var(--disabled-bg-color);\n",
              "    fill: var(--disabled-fill-color);\n",
              "    box-shadow: none;\n",
              "  }\n",
              "\n",
              "  .colab-df-spinner {\n",
              "    border: 2px solid var(--fill-color);\n",
              "    border-color: transparent;\n",
              "    border-bottom-color: var(--fill-color);\n",
              "    animation:\n",
              "      spin 1s steps(1) infinite;\n",
              "  }\n",
              "\n",
              "  @keyframes spin {\n",
              "    0% {\n",
              "      border-color: transparent;\n",
              "      border-bottom-color: var(--fill-color);\n",
              "      border-left-color: var(--fill-color);\n",
              "    }\n",
              "    20% {\n",
              "      border-color: transparent;\n",
              "      border-left-color: var(--fill-color);\n",
              "      border-top-color: var(--fill-color);\n",
              "    }\n",
              "    30% {\n",
              "      border-color: transparent;\n",
              "      border-left-color: var(--fill-color);\n",
              "      border-top-color: var(--fill-color);\n",
              "      border-right-color: var(--fill-color);\n",
              "    }\n",
              "    40% {\n",
              "      border-color: transparent;\n",
              "      border-right-color: var(--fill-color);\n",
              "      border-top-color: var(--fill-color);\n",
              "    }\n",
              "    60% {\n",
              "      border-color: transparent;\n",
              "      border-right-color: var(--fill-color);\n",
              "    }\n",
              "    80% {\n",
              "      border-color: transparent;\n",
              "      border-right-color: var(--fill-color);\n",
              "      border-bottom-color: var(--fill-color);\n",
              "    }\n",
              "    90% {\n",
              "      border-color: transparent;\n",
              "      border-bottom-color: var(--fill-color);\n",
              "    }\n",
              "  }\n",
              "</style>\n",
              "\n",
              "      <script>\n",
              "        async function quickchart(key) {\n",
              "          const quickchartButtonEl =\n",
              "            document.querySelector('#' + key + ' button');\n",
              "          quickchartButtonEl.disabled = true;  // To prevent multiple clicks.\n",
              "          quickchartButtonEl.classList.add('colab-df-spinner');\n",
              "          try {\n",
              "            const charts = await google.colab.kernel.invokeFunction(\n",
              "                'suggestCharts', [key], {});\n",
              "          } catch (error) {\n",
              "            console.error('Error during call to suggestCharts:', error);\n",
              "          }\n",
              "          quickchartButtonEl.classList.remove('colab-df-spinner');\n",
              "          quickchartButtonEl.classList.add('colab-df-quickchart-complete');\n",
              "        }\n",
              "        (() => {\n",
              "          let quickchartButtonEl =\n",
              "            document.querySelector('#df-dcae8137-3e85-49e4-9d75-2da4a60855f1 button');\n",
              "          quickchartButtonEl.style.display =\n",
              "            google.colab.kernel.accessAllowed ? 'block' : 'none';\n",
              "        })();\n",
              "      </script>\n",
              "    </div>\n",
              "\n",
              "  <div id=\"id_213f1fe7-b74f-49a3-bb69-68777192594a\">\n",
              "    <style>\n",
              "      .colab-df-generate {\n",
              "        background-color: #E8F0FE;\n",
              "        border: none;\n",
              "        border-radius: 50%;\n",
              "        cursor: pointer;\n",
              "        display: none;\n",
              "        fill: #1967D2;\n",
              "        height: 32px;\n",
              "        padding: 0 0 0 0;\n",
              "        width: 32px;\n",
              "      }\n",
              "\n",
              "      .colab-df-generate:hover {\n",
              "        background-color: #E2EBFA;\n",
              "        box-shadow: 0px 1px 2px rgba(60, 64, 67, 0.3), 0px 1px 3px 1px rgba(60, 64, 67, 0.15);\n",
              "        fill: #174EA6;\n",
              "      }\n",
              "\n",
              "      [theme=dark] .colab-df-generate {\n",
              "        background-color: #3B4455;\n",
              "        fill: #D2E3FC;\n",
              "      }\n",
              "\n",
              "      [theme=dark] .colab-df-generate:hover {\n",
              "        background-color: #434B5C;\n",
              "        box-shadow: 0px 1px 3px 1px rgba(0, 0, 0, 0.15);\n",
              "        filter: drop-shadow(0px 1px 2px rgba(0, 0, 0, 0.3));\n",
              "        fill: #FFFFFF;\n",
              "      }\n",
              "    </style>\n",
              "    <button class=\"colab-df-generate\" onclick=\"generateWithVariable('df')\"\n",
              "            title=\"Generate code using this dataframe.\"\n",
              "            style=\"display:none;\">\n",
              "\n",
              "  <svg xmlns=\"http://www.w3.org/2000/svg\" height=\"24px\"viewBox=\"0 0 24 24\"\n",
              "       width=\"24px\">\n",
              "    <path d=\"M7,19H8.4L18.45,9,17,7.55,7,17.6ZM5,21V16.75L18.45,3.32a2,2,0,0,1,2.83,0l1.4,1.43a1.91,1.91,0,0,1,.58,1.4,1.91,1.91,0,0,1-.58,1.4L9.25,21ZM18.45,9,17,7.55Zm-12,3A5.31,5.31,0,0,0,4.9,8.1,5.31,5.31,0,0,0,1,6.5,5.31,5.31,0,0,0,4.9,4.9,5.31,5.31,0,0,0,6.5,1,5.31,5.31,0,0,0,8.1,4.9,5.31,5.31,0,0,0,12,6.5,5.46,5.46,0,0,0,6.5,12Z\"/>\n",
              "  </svg>\n",
              "    </button>\n",
              "    <script>\n",
              "      (() => {\n",
              "      const buttonEl =\n",
              "        document.querySelector('#id_213f1fe7-b74f-49a3-bb69-68777192594a button.colab-df-generate');\n",
              "      buttonEl.style.display =\n",
              "        google.colab.kernel.accessAllowed ? 'block' : 'none';\n",
              "\n",
              "      buttonEl.onclick = () => {\n",
              "        google.colab.notebook.generateWithVariable('df');\n",
              "      }\n",
              "      })();\n",
              "    </script>\n",
              "  </div>\n",
              "\n",
              "    </div>\n",
              "  </div>\n"
            ],
            "application/vnd.google.colaboratory.intrinsic+json": {
              "type": "dataframe",
              "variable_name": "df",
              "summary": "{\n  \"name\": \"df\",\n  \"rows\": 250,\n  \"fields\": [\n    {\n      \"column\": \"country\",\n      \"properties\": {\n        \"dtype\": \"string\",\n        \"num_unique_values\": 250,\n        \"samples\": [\n          \"Marshall Islands\",\n          \"Armenia\",\n          \"Croatia\"\n        ],\n        \"semantic_type\": \"\",\n        \"description\": \"\"\n      }\n    },\n    {\n      \"column\": \"capital\",\n      \"properties\": {\n        \"dtype\": \"string\",\n        \"num_unique_values\": 242,\n        \"samples\": [\n          \"Porto-Novo\",\n          \"Yerevan\",\n          \"Mexico City\"\n        ],\n        \"semantic_type\": \"\",\n        \"description\": \"\"\n      }\n    },\n    {\n      \"column\": \"population\",\n      \"properties\": {\n        \"dtype\": \"string\",\n        \"num_unique_values\": 247,\n        \"samples\": [\n          \"2029307\",\n          \"2968000\",\n          \"10676000\"\n        ],\n        \"semantic_type\": \"\",\n        \"description\": \"\"\n      }\n    },\n    {\n      \"column\": \"area\",\n      \"properties\": {\n        \"dtype\": \"string\",\n        \"num_unique_values\": 246,\n        \"samples\": [\n          \"49.0\",\n          \"29800.0\",\n          \"458.0\"\n        ],\n        \"semantic_type\": \"\",\n        \"description\": \"\"\n      }\n    }\n  ]\n}"
            }
          },
          "metadata": {},
          "execution_count": 85
        }
      ]
    },
    {
      "cell_type": "code",
      "source": [
        "df.dtypes"
      ],
      "metadata": {
        "colab": {
          "base_uri": "https://localhost:8080/",
          "height": 210
        },
        "id": "CoopLADlThf2",
        "outputId": "95ac2486-3434-47ad-9c27-8b81dc6e41d1"
      },
      "execution_count": null,
      "outputs": [
        {
          "output_type": "execute_result",
          "data": {
            "text/plain": [
              "country       object\n",
              "capital       object\n",
              "population    object\n",
              "area          object\n",
              "dtype: object"
            ],
            "text/html": [
              "<div>\n",
              "<style scoped>\n",
              "    .dataframe tbody tr th:only-of-type {\n",
              "        vertical-align: middle;\n",
              "    }\n",
              "\n",
              "    .dataframe tbody tr th {\n",
              "        vertical-align: top;\n",
              "    }\n",
              "\n",
              "    .dataframe thead th {\n",
              "        text-align: right;\n",
              "    }\n",
              "</style>\n",
              "<table border=\"1\" class=\"dataframe\">\n",
              "  <thead>\n",
              "    <tr style=\"text-align: right;\">\n",
              "      <th></th>\n",
              "      <th>0</th>\n",
              "    </tr>\n",
              "  </thead>\n",
              "  <tbody>\n",
              "    <tr>\n",
              "      <th>country</th>\n",
              "      <td>object</td>\n",
              "    </tr>\n",
              "    <tr>\n",
              "      <th>capital</th>\n",
              "      <td>object</td>\n",
              "    </tr>\n",
              "    <tr>\n",
              "      <th>population</th>\n",
              "      <td>object</td>\n",
              "    </tr>\n",
              "    <tr>\n",
              "      <th>area</th>\n",
              "      <td>object</td>\n",
              "    </tr>\n",
              "  </tbody>\n",
              "</table>\n",
              "</div><br><label><b>dtype:</b> object</label>"
            ]
          },
          "metadata": {},
          "execution_count": 86
        }
      ]
    }
  ]
}